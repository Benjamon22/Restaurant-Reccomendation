{
 "cells": [
  {
   "cell_type": "code",
   "execution_count": null,
   "id": "8d633b93-310f-4078-8ccf-0a781be919b0",
   "metadata": {},
   "outputs": [],
   "source": [
    "import json\n",
    "import pandas as pd\n",
    "import numpy as np\n",
    "import requests"
   ]
  },
  {
   "cell_type": "code",
   "execution_count": null,
   "id": "cd65ba9a-a6dc-4392-a692-34a183336774",
   "metadata": {},
   "outputs": [],
   "source": [
    "# Function to search for grocery stores in San Francisco using Yelp API\n",
    "def search_grocers(offset_num):  \n",
    "    api_key = \n",
    "    url = 'https://api.yelp.com/v3/businesses/search'\n",
    "    headers = {\n",
    "        'Authorization': f'Bearer {api_key}',  # Using f-string for cleaner formatting\n",
    "    }\n",
    "    url_params = {\n",
    "        \"categories\": 'Restaurants', 'Bars',  # No need for 'All'\n",
    "        \"location\": \"Seattle, WA\",\n",
    "        \"limit\": 50,  # Max results per request\n",
    "        \"offset\": offset_num  # Offset for pagination\n",
    "    }\n",
    "\n",
    "    response = requests.get(url, headers=headers, params=url_params)\n",
    "\n",
    "    # Check for a valid response\n",
    "    if response.status_code != 200:\n",
    "        print(f\"Error {response.status_code}: {response.json()}\")\n",
    "        return None\n",
    "\n",
    "    return response.json()  # Return JSON response"
   ]
  },
  {
   "cell_type": "code",
   "execution_count": null,
   "id": "2be36014-7f5a-41b2-bcad-1821118e6d92",
   "metadata": {},
   "outputs": [],
   "source": [
    "all_results = []  # Store data in a list before converting to DataFrame\n",
    "seen_ids = set()\n",
    "\n",
    "for offset_num in np.arange(0, 550, 50):  # Start from 0 for better logic\n",
    "    try:\n",
    "        output_json = search_grocers(offset_num)  # Call API function\n",
    "\n",
    "        if output_json and 'businesses' in output_json:  # Ensure valid data\n",
    "            for business in output_json['businesses']:\n",
    "                if business['id'] not in seen_ids:\n",
    "                    seen_ids.add(business['id'])\n",
    "                    all_results.extend(output_json['businesses'])  # Add results to list\n",
    "                    \n",
    "        else:\n",
    "            print(f\"No data at offset {offset_num}\")\n",
    "\n",
    "    except Exception as e:\n",
    "        print(f\"Error at offset {offset_num}: {e}\")  # Print error message\n",
    "\n",
    "# Convert list to DataFrame\n",
    "if all_results:\n",
    "    df = pd.DataFrame(all_results)\n",
    "    df.to_csv(\"yelp_data/output_data.csv\", index=False)\n",
    "    print(\"Data saved successfully!\")\n",
    "else:\n",
    "    print(\"No data collected.\")"
   ]
  },
  {
   "cell_type": "code",
   "execution_count": null,
   "id": "3012aa06-e83e-47ac-a485-41a114fdc784",
   "metadata": {},
   "outputs": [],
   "source": []
  }
 ],
 "metadata": {
  "kernelspec": {
   "display_name": "Python (datascience)",
   "language": "python",
   "name": "datascience"
  },
  "language_info": {
   "codemirror_mode": {
    "name": "ipython",
    "version": 3
   },
   "file_extension": ".py",
   "mimetype": "text/x-python",
   "name": "python",
   "nbconvert_exporter": "python",
   "pygments_lexer": "ipython3",
   "version": "3.9.15"
  }
 },
 "nbformat": 4,
 "nbformat_minor": 5
}
